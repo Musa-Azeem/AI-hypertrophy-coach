{
 "cells": [
  {
   "cell_type": "code",
   "execution_count": 1,
   "metadata": {},
   "outputs": [],
   "source": [
    "import pandas as pd\n",
    "import numpy as np\n",
    "import matplotlib.pyplot as plt\n",
    "import seaborn as sns\n",
    "import torch\n",
    "from torch.utils.data import Dataset, DataLoader, ConcatDataset\n",
    "from sklearn.model_selection import train_test_split\n",
    "from sklearn.metrics import roc_curve, auc\n",
    "from torch import nn\n",
    "import torch.nn.functional as F\n",
    "from scipy.stats import linregress\n",
    "from sklearn.metrics import confusion_matrix, precision_recall_fscore_support\n",
    "import json"
   ]
  },
  {
   "cell_type": "code",
   "execution_count": 19,
   "metadata": {},
   "outputs": [],
   "source": [
    "def moving_average(data, window_size=15):\n",
    "    X_smooth = np.zeros(data.shape)\n",
    "    for i,channel in enumerate(data):\n",
    "        X_smooth[i] = np.convolve(channel, np.ones(window_size)/window_size, mode='same')\n",
    "    return torch.from_numpy(X_smooth).to(torch.float32)\n",
    "def warp_time(data, label, max_scale=1.5):\n",
    "    data = data.numpy()\n",
    "\n",
    "    L = data.shape[1]\n",
    "    scale = np.random.uniform(1, max_scale)\n",
    "    new_L = int(L * scale)\n",
    "    orig_t = np.linspace(0, 1, L)\n",
    "    new_t = np.linspace(0, 1, new_L)\n",
    "\n",
    "    warped = np.zeros((data.shape[0], new_L))\n",
    "    for i, channel in enumerate(data):\n",
    "        warped[i] = np.interp(new_t, orig_t, channel)\n",
    "    \n",
    "    # label = torch.from_numpy(np.interp(new_t, orig_t, label)).to(torch.float32)\n",
    "    # label = label * scale\n",
    "\n",
    "    # randomly crop to original length\n",
    "    if new_L > L:\n",
    "        start_idx = np.random.randint(0, new_L - L)\n",
    "        warped = warped[:, start_idx:start_idx + L]\n",
    "        # label = label[start_idx:start_idx + L]\n",
    "        # label = label - (start_idx / L)\n",
    "\n",
    "    return torch.from_numpy(warped).to(torch.float32), label\n",
    "\n",
    "def scale(data, low=0.6, high=1.4):\n",
    "    return data*np.random.uniform(low, high)\n",
    "\n",
    "def segment_y(y, t=40, label_end=False):\n",
    "    end_rep_markers = torch.where(torch.diff(y) < 0)[0]\n",
    "    y = torch.zeros_like(y)\n",
    "    starts = (end_rep_markers - t).clamp(0)\n",
    "    ends = (end_rep_markers + t).clamp(0, y.shape[0])\n",
    "    for start,end in zip(starts, ends):\n",
    "        y[start: end] = 1\n",
    "    \n",
    "    # when using segment_y for entire session: make last t values 1 - this is the end of the last rep\n",
    "    if label_end:\n",
    "        y[-t:] = 1\n",
    "    return y\n",
    "class IMUDataset(Dataset):\n",
    "    def __init__(self, df, winsize=250, stride=50, transform=None, aug=False):\n",
    "        self.X = torch.from_numpy(df[['acc_x', 'acc_y', 'acc_z', 'gyr_x', 'gyr_y', 'gyr_z']].values)\n",
    "        self.y = torch.from_numpy(df['rir'].values).to(torch.float32)\n",
    "        if transform is not None:\n",
    "            self.X = transform(self.X)\n",
    "        self.X = self.X.transpose(0, 1).to(torch.float32)\n",
    "        self.winsize = winsize\n",
    "        self.stride = stride\n",
    "        self.len = (self.X.shape[1] - winsize) // stride + 1\n",
    "        self.aug = aug\n",
    "\n",
    "        # for segmentation\n",
    "        # self.y = segment_y(self.y, label_end=True)\n",
    "    def __len__(self):\n",
    "        return self.len\n",
    "    def __getitem__(self, i):\n",
    "        if i >= self.len:\n",
    "            raise IndexError\n",
    "        start = i * self.stride\n",
    "        end = start + self.winsize\n",
    "        y = self.y[start:end]#.mean()\n",
    "\n",
    "        # FOR REGRESSION: y = y.mean() (single value)\n",
    "        y = y.mean().unsqueeze(0)\n",
    "\n",
    "        # FOR BINARY: 1 if y is last rep (< 1.5), 0 if not (single value)\n",
    "        # y = torch.Tensor([1.0 if y.mean() < 1.5 else 0.0])\n",
    "\n",
    "        # FOR SEGMENTATION: if y changes during window, y = 1 at that point. everywhere else is 0 (<winsize> values)\n",
    "        # y = segment_y(y)\n",
    "\n",
    "        # FOR SEGMENTATION REGRESSION: y = time when y changes (single value)\n",
    "        # diff = torch.diff(y)\n",
    "        # y = torch.diff(y).argmin().unsqueeze(0) / self.winsize if diff.min() < 0 else torch.Tensor([-1])\n",
    "        \n",
    "        X = self.X[:, start:end]\n",
    "        X = moving_average(X)\n",
    "        if self.aug:\n",
    "            X,y = warp_time(X, y)\n",
    "            X = scale(X)\n",
    "        return X, y"
   ]
  },
  {
   "cell_type": "code",
   "execution_count": 20,
   "metadata": {},
   "outputs": [
    {
     "name": "stdout",
     "output_type": "stream",
     "text": [
      "72\n",
      "1024 2\n"
     ]
    },
    {
     "data": {
      "text/plain": [
       "(72777, 19059)"
      ]
     },
     "execution_count": 20,
     "metadata": {},
     "output_type": "execute_result"
    }
   ],
   "source": [
    "HZ = 100\n",
    "in_channels = 6\n",
    "df = pd.read_csv('../data/data.csv')\n",
    "session_ids = df['session_id'].unique()\n",
    "print(len(session_ids))\n",
    "train_ids, val_ids = train_test_split(session_ids, test_size=0.2, random_state=42)\n",
    "\n",
    "df[['acc_x', 'acc_y', 'acc_z']] = (df[['acc_x', 'acc_y', 'acc_z']] / 2.0).clip(-1, 1)           # normalize accelerometer data from [-2g, 2g] to [-1, 1]\n",
    "df[['gyr_x', 'gyr_y', 'gyr_z']] = (df[['gyr_x', 'gyr_y', 'gyr_z']] / 250.0).clip(-1, 1)         # normalize gyroscope data from [-250dps, 250dps] to [-1, 1]\n",
    "\n",
    "# winsize_t = 5 # seconds\n",
    "# stride_t = 0.01 # seconds\n",
    "# winsize = int(winsize_t * HZ)\n",
    "# stride = int(stride_t * HZ)\n",
    "winsize = 1024\n",
    "stride = 2\n",
    "print(winsize, stride)\n",
    "\n",
    "train = df.loc[df['session_id'].isin(train_ids), ['acc_x', 'acc_y', 'acc_z', 'gyr_x', 'gyr_y', 'gyr_z']].values\n",
    "# norm = torch.from_numpy(train.mean(axis=0)), torch.from_numpy(train.std(axis=0))\n",
    "\n",
    "# def transform(x):\n",
    "    # return (x - norm[0]) / norm[1]\n",
    "transform = None\n",
    "\n",
    "train_dataset = ConcatDataset([IMUDataset(df[df['session_id'] == session_id], winsize, stride, transform, aug=True) for session_id in train_ids])\n",
    "val_dataset = ConcatDataset([IMUDataset(df[df['session_id'] == session_id], winsize, stride, transform, aug=False) for session_id in val_ids])\n",
    "\n",
    "len(train_dataset), len(val_dataset)"
   ]
  },
  {
   "cell_type": "code",
   "execution_count": 21,
   "metadata": {},
   "outputs": [],
   "source": [
    "class ResBlock(nn.Module):\n",
    "    # One layer of convolutional block with batchnorm, relu and dropout\n",
    "    def __init__(\n",
    "            self, in_channels, out_channels,\n",
    "            kernel_size=3, stride=1, dropout=0.0,\n",
    "        ):\n",
    "        super().__init__()\n",
    "        self.block = nn.Sequential(\n",
    "            nn.Conv1d(\n",
    "                in_channels, out_channels, \n",
    "                kernel_size=kernel_size, stride=stride, padding=kernel_size // 2,\n",
    "            ),\n",
    "            nn.BatchNorm1d(out_channels),\n",
    "            nn.ReLU(),\n",
    "            nn.Dropout(dropout)\n",
    "        )\n",
    "        self.skip = nn.Conv1d(\n",
    "            in_channels, out_channels, kernel_size=1, stride=stride\n",
    "        ) if in_channels != out_channels or stride > 1 else nn.Identity()\n",
    "    def forward(self, x):\n",
    "        return self.block(x) + self.skip(x)\n",
    "    \n",
    "class DepthBlock(nn.Module):\n",
    "    # \"depth\" number of ConvBlocks with downsample on the first block\n",
    "    def __init__(\n",
    "            self, depth, in_channels, out_channels,\n",
    "            kernel_size=3, downsample_stride=2, \n",
    "            dropout=0.0\n",
    "    ):\n",
    "        super().__init__()\n",
    "        self.blocks = nn.Sequential(*[\n",
    "            ResBlock(\n",
    "                in_channels=in_channels if i == 0 else out_channels, \n",
    "                out_channels=out_channels,\n",
    "                kernel_size=kernel_size, \n",
    "                stride=downsample_stride if i == 0 else 1,\n",
    "                dropout=dropout\n",
    "            )\n",
    "            for i in range(depth)\n",
    "        ])\n",
    "    def forward(self, x):\n",
    "        return self.blocks(x)\n",
    " \n",
    "class Encoder(nn.Module):\n",
    "    def __init__(self, config):\n",
    "        super().__init__()\n",
    "\n",
    "        self.width = config['width']\n",
    "        self.depth = config['depth']\n",
    "        self.stem_out_c = config['stem_out_c']\n",
    "        self.stem_kernel = config['stem_kernel']\n",
    "        self.dropout = config['dropout']\n",
    "\n",
    "        if len(self.width) != len(self.depth):\n",
    "            raise ValueError('Width and depth must have the same length')\n",
    "        self.conv_out_channels = self.stem_out_c if len(self.width) == 0 else self.width[-1]\n",
    "\n",
    "        self.encoder = nn.Sequential(\n",
    "            nn.Conv1d(in_channels, self.stem_out_c, kernel_size=self.stem_kernel, padding=self.stem_kernel // 2),\n",
    "            nn.BatchNorm1d(self.stem_out_c),\n",
    "            nn.ReLU(),\n",
    "            nn.MaxPool1d(kernel_size=2, stride=2),\n",
    "            *[DepthBlock(\n",
    "                depth=self.depth[i],\n",
    "                in_channels=self.stem_out_c if i == 0 else self.width[i-1], \n",
    "                out_channels=self.width[i],\n",
    "                dropout=self.dropout, \n",
    "            ) for i in range(len(self.width))]\n",
    "        )\n",
    "    def forward(self, x):\n",
    "        return self.encoder(x)\n",
    "\n",
    "class ConvNet(nn.Module):\n",
    "    def __init__(self, config):\n",
    "        super().__init__()\n",
    "        self.config = config\n",
    "        \n",
    "        self.encoder = Encoder(config)\n",
    "        self.ap = nn.AdaptiveAvgPool1d(1)\n",
    "        # self.fc = nn.Linear(512, winsize // 2)\n",
    "        self.fc = nn.Linear(self.encoder.conv_out_channels, 1)\n",
    "    def forward(self, x):\n",
    "        x = self.encoder(x)\n",
    "        # x = self.conv(x)\n",
    "        x = self.ap(x).squeeze(-1)\n",
    "        x = self.fc(x)\n",
    "        # x = torch.repeat_interleave(x, 2, dim=1)\n",
    "        return x\n",
    "    def freeze(self, stop_idx=None):\n",
    "        if stop_idx is None:\n",
    "            stop_idx = len(self.encoder.encoder)\n",
    "        for block in self.encoder.encoder[:stop_idx]:\n",
    "            for param in block.parameters():\n",
    "                param.requires_grad = False\n",
    "    def get_optimizer(self, lr, weight_decay=1e-4, betas=(0.9, 0.999)):\n",
    "        # AdamW optimzer - apply weight decay to linear and conv weights\n",
    "        # but not to biases and batchnorm layers\n",
    "        params = self.named_parameters()\n",
    "        decay_params = [p for n,p in params if p.dim() >= 2]\n",
    "        no_decay_params = [p for n,p in params if p.dim() < 2]\n",
    "        optimizer = torch.optim.AdamW([\n",
    "            {'params': decay_params, 'weight_decay': weight_decay},\n",
    "            {'params': no_decay_params, 'weight_decay': 0.0}\n",
    "        ], betas=betas, lr=lr)\n",
    "        return optimizer"
   ]
  },
  {
   "cell_type": "code",
   "execution_count": 22,
   "metadata": {},
   "outputs": [],
   "source": [
    "config = {\n",
    "    'stem_out_c': 128,\n",
    "    'depth': [2, 2, 1, 2, 1, 1],\n",
    "    'width': [64, 64, 256, 256, 64, 256],\n",
    "    'stem_kernel': 7,\n",
    "    'learning_rate': 0.005377128323229521,\n",
    "    'weight_decay': 0.00073713587550061,\n",
    "    'dropout': 0.1718645168344513,\n",
    "    'batch_size': 128,\n",
    "    'device': 'cuda:0'\n",
    "}"
   ]
  },
  {
   "cell_type": "code",
   "execution_count": 23,
   "metadata": {},
   "outputs": [
    {
     "name": "stdout",
     "output_type": "stream",
     "text": [
      "739840\n",
      "740097\n"
     ]
    }
   ],
   "source": [
    "trainloader = DataLoader(train_dataset, batch_size=128, shuffle=True)\n",
    "valloader = DataLoader(val_dataset, batch_size=128, shuffle=False)\n",
    "device = 'cuda'\n",
    "model = ConvNet(config).to(device)\n",
    "# model.freeze(-1)\n",
    "criterion = nn.MSELoss()\n",
    "optimizer = model.get_optimizer(lr=3e-4)\n",
    "print(sum(p.numel() for p in model.encoder.parameters()))\n",
    "print(sum(p.numel() for p in model.parameters() if p.requires_grad))"
   ]
  },
  {
   "cell_type": "code",
   "execution_count": 28,
   "metadata": {},
   "outputs": [
    {
     "data": {
      "text/plain": [
       "torch.Size([128, 1])"
      ]
     },
     "execution_count": 28,
     "metadata": {},
     "output_type": "execute_result"
    }
   ],
   "source": [
    "X,y = next(iter(trainloader))\n",
    "ypred = model(X.to(device))\n",
    "ypred.shape"
   ]
  },
  {
   "cell_type": "code",
   "execution_count": 36,
   "metadata": {},
   "outputs": [],
   "source": [
    "def train(epochs, model, trainloader, valloader, criterion, optimizer, outfile='best_model.pth'):\n",
    "    train_losses = []\n",
    "    val_losses = []\n",
    "    best_val_loss = float('Inf')\n",
    "    for epoch in range(epochs):\n",
    "        model.train()\n",
    "        train_loss = 0\n",
    "        for X, y in trainloader:\n",
    "            X, y = X.to(device), y.to(device)\n",
    "            optimizer.zero_grad()\n",
    "            ypred = model(X)\n",
    "            loss = criterion(ypred, y)\n",
    "            loss.backward()\n",
    "            optimizer.step()\n",
    "            train_loss += loss.item()\n",
    "        train_losses.append(train_loss / len(trainloader))\n",
    "        model.eval()\n",
    "        val_loss = 0\n",
    "        with torch.no_grad():\n",
    "            for X, y in valloader:\n",
    "                X, y = X.to(device), y.to(device)\n",
    "                ypred = model(X)\n",
    "                loss = criterion(ypred, y)\n",
    "                val_loss += loss.item()\n",
    "        val_losses.append(val_loss / len(valloader))\n",
    "        if val_losses[-1] < best_val_loss:\n",
    "            best_val_loss = val_losses[-1]\n",
    "            torch.save((model.state_dict(),model.config), outfile)\n",
    "            print(f'*Epoch {epoch} train loss: {train_losses[-1]}, val loss: {val_losses[-1]}')\n",
    "        else:\n",
    "            print(f'Epoch {epoch} train loss: {train_losses[-1]}, val loss: {val_losses[-1]}')\n",
    "        torch.save((model.state_dict(),model.config), f'model.pth')\n",
    "        plt.plot(train_losses, label='Train')\n",
    "        plt.plot(val_losses, label='Val')\n",
    "        plt.legend()\n",
    "        plt.savefig('loss.png')\n",
    "        plt.close()\n",
    "    plt.plot(train_losses, label='Train')\n",
    "    plt.plot(val_losses, label='Val')\n",
    "    plt.legend()\n",
    "    plt.show()\n",
    "    return train_losses, val_losses"
   ]
  },
  {
   "cell_type": "code",
   "execution_count": 37,
   "metadata": {},
   "outputs": [
    {
     "name": "stdout",
     "output_type": "stream",
     "text": [
      "*Epoch 0 train loss: 0.4923284039137024, val loss: 5.324386067663463\n",
      "Epoch 1 train loss: 0.4013216339169571, val loss: 7.239886592923595\n",
      "Epoch 2 train loss: 0.3385291479279161, val loss: 6.131197947777507\n",
      "Epoch 3 train loss: 0.3219337885534826, val loss: 5.596621205998997\n",
      "*Epoch 4 train loss: 0.2856637105895681, val loss: 5.321858387887353\n",
      "*Epoch 5 train loss: 0.26189885753319847, val loss: 4.878127940036607\n",
      "*Epoch 6 train loss: 0.24980661885809605, val loss: 4.811571446375534\n",
      "Epoch 7 train loss: 0.23398680500489757, val loss: 4.94259078194381\n"
     ]
    },
    {
     "ename": "KeyboardInterrupt",
     "evalue": "",
     "output_type": "error",
     "traceback": [
      "\u001b[31m---------------------------------------------------------------------------\u001b[39m",
      "\u001b[31mKeyboardInterrupt\u001b[39m                         Traceback (most recent call last)",
      "\u001b[36mCell\u001b[39m\u001b[36m \u001b[39m\u001b[32mIn[37]\u001b[39m\u001b[32m, line 1\u001b[39m\n\u001b[32m----> \u001b[39m\u001b[32m1\u001b[39m train_losses, val_losses = \u001b[43mtrain\u001b[49m\u001b[43m(\u001b[49m\u001b[32;43m100\u001b[39;49m\u001b[43m,\u001b[49m\u001b[43m \u001b[49m\u001b[43mmodel\u001b[49m\u001b[43m,\u001b[49m\u001b[43m \u001b[49m\u001b[43mtrainloader\u001b[49m\u001b[43m,\u001b[49m\u001b[43m \u001b[49m\u001b[43mvalloader\u001b[49m\u001b[43m,\u001b[49m\u001b[43m \u001b[49m\u001b[43mcriterion\u001b[49m\u001b[43m,\u001b[49m\u001b[43m \u001b[49m\u001b[43moptimizer\u001b[49m\u001b[43m,\u001b[49m\u001b[43m \u001b[49m\u001b[43moutfile\u001b[49m\u001b[43m=\u001b[49m\u001b[33;43m'\u001b[39;49m\u001b[33;43m../best_model-rir.pth\u001b[39;49m\u001b[33;43m'\u001b[39;49m\u001b[43m)\u001b[49m\n",
      "\u001b[36mCell\u001b[39m\u001b[36m \u001b[39m\u001b[32mIn[36]\u001b[39m\u001b[32m, line 8\u001b[39m, in \u001b[36mtrain\u001b[39m\u001b[34m(epochs, model, trainloader, valloader, criterion, optimizer, outfile)\u001b[39m\n\u001b[32m      6\u001b[39m model.train()\n\u001b[32m      7\u001b[39m train_loss = \u001b[32m0\u001b[39m\n\u001b[32m----> \u001b[39m\u001b[32m8\u001b[39m \u001b[43m\u001b[49m\u001b[38;5;28;43;01mfor\u001b[39;49;00m\u001b[43m \u001b[49m\u001b[43mX\u001b[49m\u001b[43m,\u001b[49m\u001b[43m \u001b[49m\u001b[43my\u001b[49m\u001b[43m \u001b[49m\u001b[38;5;129;43;01min\u001b[39;49;00m\u001b[43m \u001b[49m\u001b[43mtrainloader\u001b[49m\u001b[43m:\u001b[49m\n\u001b[32m      9\u001b[39m \u001b[43m    \u001b[49m\u001b[43mX\u001b[49m\u001b[43m,\u001b[49m\u001b[43m \u001b[49m\u001b[43my\u001b[49m\u001b[43m \u001b[49m\u001b[43m=\u001b[49m\u001b[43m \u001b[49m\u001b[43mX\u001b[49m\u001b[43m.\u001b[49m\u001b[43mto\u001b[49m\u001b[43m(\u001b[49m\u001b[43mdevice\u001b[49m\u001b[43m)\u001b[49m\u001b[43m,\u001b[49m\u001b[43m \u001b[49m\u001b[43my\u001b[49m\u001b[43m.\u001b[49m\u001b[43mto\u001b[49m\u001b[43m(\u001b[49m\u001b[43mdevice\u001b[49m\u001b[43m)\u001b[49m\n\u001b[32m     10\u001b[39m \u001b[43m    \u001b[49m\u001b[43moptimizer\u001b[49m\u001b[43m.\u001b[49m\u001b[43mzero_grad\u001b[49m\u001b[43m(\u001b[49m\u001b[43m)\u001b[49m\n",
      "\u001b[36mFile \u001b[39m\u001b[32m~/AI-hypertrophy-coach/.venv/lib/python3.12/site-packages/torch/utils/data/dataloader.py:708\u001b[39m, in \u001b[36m_BaseDataLoaderIter.__next__\u001b[39m\u001b[34m(self)\u001b[39m\n\u001b[32m    705\u001b[39m \u001b[38;5;28;01mif\u001b[39;00m \u001b[38;5;28mself\u001b[39m._sampler_iter \u001b[38;5;129;01mis\u001b[39;00m \u001b[38;5;28;01mNone\u001b[39;00m:\n\u001b[32m    706\u001b[39m     \u001b[38;5;66;03m# TODO(https://github.com/pytorch/pytorch/issues/76750)\u001b[39;00m\n\u001b[32m    707\u001b[39m     \u001b[38;5;28mself\u001b[39m._reset()  \u001b[38;5;66;03m# type: ignore[call-arg]\u001b[39;00m\n\u001b[32m--> \u001b[39m\u001b[32m708\u001b[39m data = \u001b[38;5;28;43mself\u001b[39;49m\u001b[43m.\u001b[49m\u001b[43m_next_data\u001b[49m\u001b[43m(\u001b[49m\u001b[43m)\u001b[49m\n\u001b[32m    709\u001b[39m \u001b[38;5;28mself\u001b[39m._num_yielded += \u001b[32m1\u001b[39m\n\u001b[32m    710\u001b[39m \u001b[38;5;28;01mif\u001b[39;00m (\n\u001b[32m    711\u001b[39m     \u001b[38;5;28mself\u001b[39m._dataset_kind == _DatasetKind.Iterable\n\u001b[32m    712\u001b[39m     \u001b[38;5;129;01mand\u001b[39;00m \u001b[38;5;28mself\u001b[39m._IterableDataset_len_called \u001b[38;5;129;01mis\u001b[39;00m \u001b[38;5;129;01mnot\u001b[39;00m \u001b[38;5;28;01mNone\u001b[39;00m\n\u001b[32m    713\u001b[39m     \u001b[38;5;129;01mand\u001b[39;00m \u001b[38;5;28mself\u001b[39m._num_yielded > \u001b[38;5;28mself\u001b[39m._IterableDataset_len_called\n\u001b[32m    714\u001b[39m ):\n",
      "\u001b[36mFile \u001b[39m\u001b[32m~/AI-hypertrophy-coach/.venv/lib/python3.12/site-packages/torch/utils/data/dataloader.py:764\u001b[39m, in \u001b[36m_SingleProcessDataLoaderIter._next_data\u001b[39m\u001b[34m(self)\u001b[39m\n\u001b[32m    762\u001b[39m \u001b[38;5;28;01mdef\u001b[39;00m\u001b[38;5;250m \u001b[39m\u001b[34m_next_data\u001b[39m(\u001b[38;5;28mself\u001b[39m):\n\u001b[32m    763\u001b[39m     index = \u001b[38;5;28mself\u001b[39m._next_index()  \u001b[38;5;66;03m# may raise StopIteration\u001b[39;00m\n\u001b[32m--> \u001b[39m\u001b[32m764\u001b[39m     data = \u001b[38;5;28;43mself\u001b[39;49m\u001b[43m.\u001b[49m\u001b[43m_dataset_fetcher\u001b[49m\u001b[43m.\u001b[49m\u001b[43mfetch\u001b[49m\u001b[43m(\u001b[49m\u001b[43mindex\u001b[49m\u001b[43m)\u001b[49m  \u001b[38;5;66;03m# may raise StopIteration\u001b[39;00m\n\u001b[32m    765\u001b[39m     \u001b[38;5;28;01mif\u001b[39;00m \u001b[38;5;28mself\u001b[39m._pin_memory:\n\u001b[32m    766\u001b[39m         data = _utils.pin_memory.pin_memory(data, \u001b[38;5;28mself\u001b[39m._pin_memory_device)\n",
      "\u001b[36mFile \u001b[39m\u001b[32m~/AI-hypertrophy-coach/.venv/lib/python3.12/site-packages/torch/utils/data/_utils/fetch.py:52\u001b[39m, in \u001b[36m_MapDatasetFetcher.fetch\u001b[39m\u001b[34m(self, possibly_batched_index)\u001b[39m\n\u001b[32m     50\u001b[39m         data = \u001b[38;5;28mself\u001b[39m.dataset.__getitems__(possibly_batched_index)\n\u001b[32m     51\u001b[39m     \u001b[38;5;28;01melse\u001b[39;00m:\n\u001b[32m---> \u001b[39m\u001b[32m52\u001b[39m         data = [\u001b[38;5;28;43mself\u001b[39;49m\u001b[43m.\u001b[49m\u001b[43mdataset\u001b[49m\u001b[43m[\u001b[49m\u001b[43midx\u001b[49m\u001b[43m]\u001b[49m \u001b[38;5;28;01mfor\u001b[39;00m idx \u001b[38;5;129;01min\u001b[39;00m possibly_batched_index]\n\u001b[32m     53\u001b[39m \u001b[38;5;28;01melse\u001b[39;00m:\n\u001b[32m     54\u001b[39m     data = \u001b[38;5;28mself\u001b[39m.dataset[possibly_batched_index]\n",
      "\u001b[36mFile \u001b[39m\u001b[32m~/AI-hypertrophy-coach/.venv/lib/python3.12/site-packages/torch/utils/data/dataset.py:350\u001b[39m, in \u001b[36mConcatDataset.__getitem__\u001b[39m\u001b[34m(self, idx)\u001b[39m\n\u001b[32m    348\u001b[39m \u001b[38;5;28;01melse\u001b[39;00m:\n\u001b[32m    349\u001b[39m     sample_idx = idx - \u001b[38;5;28mself\u001b[39m.cumulative_sizes[dataset_idx - \u001b[32m1\u001b[39m]\n\u001b[32m--> \u001b[39m\u001b[32m350\u001b[39m \u001b[38;5;28;01mreturn\u001b[39;00m \u001b[38;5;28;43mself\u001b[39;49m\u001b[43m.\u001b[49m\u001b[43mdatasets\u001b[49m\u001b[43m[\u001b[49m\u001b[43mdataset_idx\u001b[49m\u001b[43m]\u001b[49m\u001b[43m[\u001b[49m\u001b[43msample_idx\u001b[49m\u001b[43m]\u001b[49m\n",
      "\u001b[36mCell\u001b[39m\u001b[36m \u001b[39m\u001b[32mIn[19]\u001b[39m\u001b[32m, line 85\u001b[39m, in \u001b[36mIMUDataset.__getitem__\u001b[39m\u001b[34m(self, i)\u001b[39m\n\u001b[32m     83\u001b[39m X = moving_average(X)\n\u001b[32m     84\u001b[39m \u001b[38;5;28;01mif\u001b[39;00m \u001b[38;5;28mself\u001b[39m.aug:\n\u001b[32m---> \u001b[39m\u001b[32m85\u001b[39m     X,y = \u001b[43mwarp_time\u001b[49m\u001b[43m(\u001b[49m\u001b[43mX\u001b[49m\u001b[43m,\u001b[49m\u001b[43m \u001b[49m\u001b[43my\u001b[49m\u001b[43m)\u001b[49m\n\u001b[32m     86\u001b[39m     X = scale(X)\n\u001b[32m     87\u001b[39m \u001b[38;5;28;01mreturn\u001b[39;00m X, y\n",
      "\u001b[36mCell\u001b[39m\u001b[36m \u001b[39m\u001b[32mIn[19]\u001b[39m\u001b[32m, line 29\u001b[39m, in \u001b[36mwarp_time\u001b[39m\u001b[34m(data, label, max_scale)\u001b[39m\n\u001b[32m     25\u001b[39m     warped = warped[:, start_idx:start_idx + L]\n\u001b[32m     26\u001b[39m     \u001b[38;5;66;03m# label = label[start_idx:start_idx + L]\u001b[39;00m\n\u001b[32m     27\u001b[39m     \u001b[38;5;66;03m# label = label - (start_idx / L)\u001b[39;00m\n\u001b[32m---> \u001b[39m\u001b[32m29\u001b[39m \u001b[38;5;28;01mreturn\u001b[39;00m \u001b[43mtorch\u001b[49m\u001b[43m.\u001b[49m\u001b[43mfrom_numpy\u001b[49m\u001b[43m(\u001b[49m\u001b[43mwarped\u001b[49m\u001b[43m)\u001b[49m\u001b[43m.\u001b[49m\u001b[43mto\u001b[49m\u001b[43m(\u001b[49m\u001b[43mtorch\u001b[49m\u001b[43m.\u001b[49m\u001b[43mfloat32\u001b[49m\u001b[43m)\u001b[49m, label\n",
      "\u001b[31mKeyboardInterrupt\u001b[39m: "
     ]
    }
   ],
   "source": [
    "train_losses, val_losses = train(100, model, trainloader, valloader, criterion, optimizer, outfile='../best_model-rir.pth')"
   ]
  },
  {
   "cell_type": "code",
   "execution_count": 50,
   "metadata": {},
   "outputs": [],
   "source": [
    "\n",
    "model.eval()\n",
    "ys = []\n",
    "ypreds = []\n",
    "with torch.no_grad():\n",
    "    for X, y in valloader:\n",
    "        X, y = X.to(device), y.to(device)\n",
    "        ypred = model(X)\n",
    "        ys.append(y.cpu().numpy())\n",
    "        ypreds.append(ypred.cpu().numpy())\n",
    "ys = np.concatenate(ys).flatten()\n",
    "ypreds = np.concatenate(ypreds).flatten()"
   ]
  },
  {
   "cell_type": "code",
   "execution_count": 54,
   "metadata": {},
   "outputs": [
    {
     "data": {
      "text/plain": [
       "Text(0.5, 1.0, 'RIR: 0.651')"
      ]
     },
     "execution_count": 54,
     "metadata": {},
     "output_type": "execute_result"
    },
    {
     "data": {
      "image/png": "[encoded data removed]",
      "text/plain": [
       "<Figure size 640x480 with 1 Axes>"
      ]
     },
     "metadata": {},
     "output_type": "display_data"
    }
   ],
   "source": [
    "r_value = linregress(ys, ypreds).rvalue\n",
    "sns.regplot(x=ys, y=ypreds, line_kws={'color': 'red'})\n",
    "plt.xlabel('True RIR')\n",
    "plt.ylabel('Predicted RIR')\n",
    "plt.title(f'RIR: {r_value:.3f}')"
   ]
  }
 ],
 "metadata": {
  "kernelspec": {
   "display_name": ".venv",
   "language": "python",
   "name": "python3"
  },
  "language_info": {
   "codemirror_mode": {
    "name": "ipython",
    "version": 3
   },
   "file_extension": ".py",
   "mimetype": "text/x-python",
   "name": "python",
   "nbconvert_exporter": "python",
   "pygments_lexer": "ipython3",
   "version": "3.12.3"
  }
 },
 "nbformat": 4,
 "nbformat_minor": 2
}
