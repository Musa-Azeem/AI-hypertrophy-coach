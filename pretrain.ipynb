{
 "cells": [
  {
   "cell_type": "code",
   "execution_count": 1,
   "id": "860a1f8f",
   "metadata": {},
   "outputs": [],
   "source": [
    "import pandas as pd\n",
    "import numpy as np\n",
    "import matplotlib.pyplot as plt\n",
    "import seaborn as sns\n",
    "import torch\n",
    "from torch.utils.data import Dataset, DataLoader, ConcatDataset\n",
    "from sklearn.model_selection import train_test_split\n",
    "from torch import nn\n",
    "import torch.nn.functional as F\n",
    "from scipy.stats import linregress\n",
    "from pathlib import Path"
   ]
  },
  {
   "cell_type": "code",
   "execution_count": 2,
   "id": "f6d3f414",
   "metadata": {},
   "outputs": [],
   "source": [
    "class IMUDataset(Dataset):\n",
    "    def __init__(self, df, winsize=250, stride=50, transform=None):\n",
    "        self.X = torch.from_numpy(df[['acc_x', 'acc_y', 'acc_z', 'gyr_x', 'gyr_y', 'gyr_z']].values)\n",
    "        if transform is not None:\n",
    "            self.X = transform(self.X)\n",
    "        self.X = self.X.transpose(0, 1).to(torch.float32)\n",
    "        self.winsize = winsize\n",
    "        self.stride = stride\n",
    "        self.len = (self.X.shape[1] - winsize) // stride + 1\n",
    "    def __len__(self):\n",
    "        return self.len\n",
    "    def __getitem__(self, i):\n",
    "        start = i * self.stride\n",
    "        end = start + self.winsize\n",
    "        return self.X[:,start:end]\n"
   ]
  },
  {
   "cell_type": "code",
   "execution_count": null,
   "id": "276dd5e9",
   "metadata": {},
   "outputs": [],
   "source": [
    "HZ = 100\n",
    "dfs = []\n",
    "for file in Path('data/elshafei_data_cleaned').iterdir():\n",
    "    df = pd.read_csv(file)\n",
    "session_ids = df['session_id'].unique()\n",
    "train_ids, val_ids = train_test_split(session_ids, test_size=0.2, random_state=42)\n",
    "\n",
    "winsize_t = 5 # seconds\n",
    "stride_t = 0.01 # seconds\n",
    "winsize = int(winsize_t * HZ)\n",
    "stride = int(stride_t * HZ)\n",
    "print(winsize, stride)\n",
    "\n",
    "train = df.loc[df['session_id'].isin(train_ids), ['acc_x', 'acc_y', 'acc_z', 'gyr_x', 'gyr_y', 'gyr_z']].values\n",
    "norm = torch.from_numpy(train.mean(axis=0)), torch.from_numpy(train.std(axis=0))\n",
    "\n",
    "def transform(x):\n",
    "    return (x - norm[0]) / norm[1]\n",
    "\n",
    "train_dataset = ConcatDataset([IMUDataset(df[df['session_id'] == session_id], winsize, stride, transform) for session_id in train_ids])\n",
    "val_dataset = ConcatDataset([IMUDataset(df[df['session_id'] == session_id], winsize, stride, transform) for session_id in val_ids])\n",
    "\n",
    "len(train_dataset), len(val_dataset)"
   ]
  }
 ],
 "metadata": {
  "kernelspec": {
   "display_name": ".venv",
   "language": "python",
   "name": "python3"
  },
  "language_info": {
   "codemirror_mode": {
    "name": "ipython",
    "version": 3
   },
   "file_extension": ".py",
   "mimetype": "text/x-python",
   "name": "python",
   "nbconvert_exporter": "python",
   "pygments_lexer": "ipython3",
   "version": "3.12.3"
  }
 },
 "nbformat": 4,
 "nbformat_minor": 5
}
