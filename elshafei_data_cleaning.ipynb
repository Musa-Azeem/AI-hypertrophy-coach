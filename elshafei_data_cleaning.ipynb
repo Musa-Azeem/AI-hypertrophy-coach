{
 "cells": [
  {
   "cell_type": "code",
   "execution_count": 10,
   "metadata": {},
   "outputs": [],
   "source": [
    "import pandas as pd\n",
    "import numpy as np\n",
    "import os"
   ]
  },
  {
   "cell_type": "code",
   "execution_count": 11,
   "metadata": {},
   "outputs": [],
   "source": [
    "# Define Path to Orginal Execel Sheet and Output Directory\n",
    "excel_path = 'data/elshafei.xlsx'\n",
    "output_dir = 'data/elshafei_data_cleaned'"
   ]
  },
  {
   "cell_type": "code",
   "execution_count": 12,
   "metadata": {},
   "outputs": [],
   "source": [
    "# Load All Sheetnames Present in Excel Sheet\n",
    "sheet_names = pd.ExcelFile(excel_path).sheet_names\n",
    "\n",
    "# Original Column Names\n",
    "a_cols = ['ax', 'ay', 'az']\n",
    "g_cols = ['gx', 'gy', 'gz']\n",
    "\n",
    "# New Column Names\n",
    "acc_cols = ['acc_x', 'acc_y', 'acc_z']\n",
    "gyr_cols = ['gyr_x', 'gyr_y', 'gyr_z']\n",
    "\n",
    "# Mapping for Renaming\n",
    "rename_dict = dict(zip(a_cols + g_cols, acc_cols + gyr_cols))\n",
    "\n",
    "# Define What Columns Need to be in CSVs\n",
    "required_cols =  ['time'] + acc_cols + gyr_cols"
   ]
  },
  {
   "cell_type": "code",
   "execution_count": 13,
   "metadata": {},
   "outputs": [
    {
     "name": "stdout",
     "output_type": "stream",
     "text": [
      "Saved Cleaned Data for Sheet 'P0' to data/elshafei_data_cleaned/P0_cleaned.csv\n",
      "Saved Cleaned Data for Sheet 'P1' to data/elshafei_data_cleaned/P1_cleaned.csv\n",
      "Saved Cleaned Data for Sheet 'P2' to data/elshafei_data_cleaned/P2_cleaned.csv\n",
      "Saved Cleaned Data for Sheet 'P3' to data/elshafei_data_cleaned/P3_cleaned.csv\n",
      "Saved Cleaned Data for Sheet 'P4' to data/elshafei_data_cleaned/P4_cleaned.csv\n",
      "Saved Cleaned Data for Sheet 'P5' to data/elshafei_data_cleaned/P5_cleaned.csv\n",
      "Saved Cleaned Data for Sheet 'P6' to data/elshafei_data_cleaned/P6_cleaned.csv\n",
      "Saved Cleaned Data for Sheet 'P7' to data/elshafei_data_cleaned/P7_cleaned.csv\n",
      "Saved Cleaned Data for Sheet 'P8' to data/elshafei_data_cleaned/P8_cleaned.csv\n",
      "Saved Cleaned Data for Sheet 'P9' to data/elshafei_data_cleaned/P9_cleaned.csv\n"
     ]
    }
   ],
   "source": [
    "# Go Through Each Sheet, Do Some Cleaning and Renaming, Write to CSVs\n",
    "for sheet in sheet_names:\n",
    "\n",
    "    # Skip Summary Sheet\n",
    "    if sheet.lower() == 'summary':\n",
    "        continue\n",
    "\n",
    "    # Load Sheet\n",
    "    df = pd.read_excel(excel_path, sheet_name=sheet)\n",
    "    \n",
    "    # Strip White Space From Column Names\n",
    "    df.columns = [col.strip() for col in df.columns]\n",
    "    \n",
    "    # Check if 'Timestamp(us)' Column Exists, if not, Fabricate It (Can Be Left Out Later)\n",
    "    if 'Timestamp(us)' not in df.columns:\n",
    "        df['Timestamp(us)'] = np.arange(df.shape[0]) / 50  \n",
    "    \n",
    "    # Rename Timestamp to time\n",
    "    df.rename(columns={'Timestamp(us)': 'time'}, inplace=True)\n",
    "\n",
    "    # Rename accel and gyro Columns\n",
    "    df.rename(columns=rename_dict, inplace=True)\n",
    "\n",
    "    # Normalize Accelerometer Values\n",
    "    for c in acc_cols:\n",
    "        if c in df.columns:\n",
    "            df[c] /= 16384.0\n",
    "    \n",
    "    # Normalize Gyroscope Values\n",
    "    for c in gyr_cols:\n",
    "        if c in df.columns:\n",
    "            df[c] /= 131.0\n",
    "    \n",
    "    # Only Grab Required Columns\n",
    "    cols = [col for col in required_cols if col in df.columns]\n",
    "    df_clean = df[cols]\n",
    "\n",
    "    # Save to CSV\n",
    "    output_path = os.path.join(output_dir, f\"{sheet}_cleaned.csv\")\n",
    "    df_clean.to_csv(output_path, index=False)\n",
    "    print(f\"Saved Cleaned Data for Sheet '{sheet}' to {output_path}\")"
   ]
  }
 ],
 "metadata": {
  "kernelspec": {
   "display_name": "env",
   "language": "python",
   "name": "python3"
  },
  "language_info": {
   "codemirror_mode": {
    "name": "ipython",
    "version": 3
   },
   "file_extension": ".py",
   "mimetype": "text/x-python",
   "name": "python",
   "nbconvert_exporter": "python",
   "pygments_lexer": "ipython3",
   "version": "3.13.0"
  }
 },
 "nbformat": 4,
 "nbformat_minor": 2
}
